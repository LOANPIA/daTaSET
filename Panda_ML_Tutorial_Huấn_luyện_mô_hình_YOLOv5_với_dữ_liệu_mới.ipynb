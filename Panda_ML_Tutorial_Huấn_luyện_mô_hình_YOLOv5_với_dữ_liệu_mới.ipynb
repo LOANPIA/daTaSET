{
  "nbformat": 4,
  "nbformat_minor": 0,
  "metadata": {
    "colab": {
      "name": "Panda ML Tutorial - Huấn luyện mô hình YOLOv5 với dữ liệu mới",
      "provenance": [],
      "collapsed_sections": [],
      "include_colab_link": true
    },
    "kernelspec": {
      "name": "python3",
      "display_name": "Python 3"
    },
    "accelerator": "GPU"
  },
  "cells": [
    {
      "cell_type": "markdown",
      "metadata": {
        "id": "view-in-github",
        "colab_type": "text"
      },
      "source": [
        "<a href=\"https://colab.research.google.com/github/LOANPIA/daTaSET/blob/main/Panda_ML_Tutorial_Hu%E1%BA%A5n_luy%E1%BB%87n_m%C3%B4_h%C3%ACnh_YOLOv5_v%E1%BB%9Bi_d%E1%BB%AF_li%E1%BB%87u_m%E1%BB%9Bi.ipynb\" target=\"_parent\"><img src=\"https://colab.research.google.com/assets/colab-badge.svg\" alt=\"Open In Colab\"/></a>"
      ]
    },
    {
      "cell_type": "markdown",
      "metadata": {
        "id": "GD9gUQpaBxNa"
      },
      "source": [
        "# Giới thiệu\n",
        "Hiện nay, việc huấn luyện một mô hình phát hiện đối tượng (Object Detection) trên tập dữ liệu mới càng ngày càng trở nên dễ dàng. \n",
        "\n",
        "Hãy thử cùng tìm hiểu các bước huấn luyện một mô hình cho đối tượng mới dựa trên YOLOv5.\n",
        " \n"
      ]
    },
    {
      "cell_type": "markdown",
      "metadata": {
        "id": "R7I9UIcXvjwl"
      },
      "source": [
        "# Chuẩn bị dữ liệu\n",
        "Đối tượng được dùng trong bài hướng dẫn này là gấu trúc (panda), nhưng các bước xây dựng mô hình có thể áp dụng với bất kỳ đối tượng nào khác. \n",
        "\n",
        "Để hiểu rõ hơn về bước này, các bạn có thể tham khảo bài chia sẻ về cách [Huấn luyện mô hình Object Detection với YOLOv5](https://hungk20.github.io/computer%20vision/practical/train-yolov5/).\n",
        "## Tập hợp ảnh và gắn nhãn\n",
        "Có vài cách để thu thập ảnh cho việc huấn luyện mô hình:\n",
        "- Tìm trên [Open Images Dataset](https://storage.googleapis.com/openimages/web/index.html), đây là tập hợp hơn 9 triệu ảnh với 6000 nhóm khác nhau.\n",
        "- Tìm với công cụ tìm kiếm (Google, Bing, …) với lưu ý cần kiểm tra kỹ về bản quyền sử dụng ảnh.\n",
        "- Trích xuất các khung hình từ Videos\n",
        "- Tự chụp ảnh\n",
        "- ...\n",
        "\n",
        "Sau đó, ảnh cần được gắn nhãn theo định dạng của YOLO. Mỗi ảnh sẽ có một nhãn (file txt) tương ứng để chứa thông tin về đường bao của đối tượng:\n",
        "- Mỗi dòng chứa thông tin của một đối tượng\n",
        "- Mỗi dòng có 5 giá trị chứa thông tin về đối tượng và toạ độ đường bao: đối tượng, toạ độ trung tâm x, toạ độ trung tâm y, chiều rộng, chiều dài.\n",
        "- Lưu ý là toạ độ đường bao đã được chuẩn hoá về khoảng (0, 1) (đây là yêu cầu của mô hình YOLO)\n",
        "\n",
        "## Sắp xếp thư mục ảnh và nhãn\n",
        "Sau khi đã có ảnh và nhãn, tập dữ liệu có thể được sắp xếp như sau:\n",
        "```\n",
        "custom_dataset\n",
        "├── custom_dataset.yaml\n",
        "├── custom_model.yaml\n",
        "└── images_and_labels\n",
        "```\n",
        "- File cấu hình của tập dữ liệu `custom_dataset.yaml` chứa đường dẫn đến thư mục ảnh và thông tin đối tượng.\n",
        "```python\n",
        "# relative paths from folder yolov5\n",
        "#  .\n",
        "#  ├── custom_dataset\n",
        "#  └── yolov5\n",
        "train: ../custom_dataset/images_and_labels/images/train/\n",
        "val: ../custom_dataset/images_and_labels/images/valid/\n",
        "# number of classes\n",
        "nc: 1\n",
        "# class names\n",
        "names: ['panda']\n",
        "```\n",
        "- File cấu hình của mô hình `custom_model.yaml` chứa thông tin cấu trúc mạng, ở đây chúng ta dùng cấu trúc mô hình YOLOv5s (cỡ nhỏ) với mục tiêu rút ngắn thời gian huấn luyện và kích thước mô hình. Lưu ý là chúng ta hoàn toàn có thể dùng cấu trúc khác, ví dụ như YOLOv5m, YOLOv5l, YOLOv5x từ YOLOv5 hoặc một cấu trúc mới do chúng ta tự thiết kế.\n",
        "```python\n",
        "# custom config based on yolov5s, just change number of class\n",
        "nc: 1  # number of classes\n",
        "depth_multiple: 0.33  # model depth multiple\n",
        "width_multiple: 0.50  # layer channel multiple\n",
        "...\n",
        "```\n",
        "- Thư mục `image_and_labels` chứa ảnh và nhãn dùng cho việc huấn luyện mô hình.\n",
        "```\n",
        "images_and_labels\n",
        "├── images\n",
        "│   ├── train\n",
        "│   │   ├── train_001.jpg\n",
        "│   │   ├── train_002.jpg\n",
        "│   │   └── ...\n",
        "│   ├── valid\n",
        "│   │   ├── valid_001.jpg\n",
        "│   │   ├── valid_002.jpg\n",
        "│   │   └── ... \n",
        "│   └── test\n",
        "│       ├── test_001.jpg\n",
        "│       ├── test_002.jpg\n",
        "│       └── ...\n",
        "└── labels\n",
        "  ├── train\n",
        "  │   ├── train_001.txt\n",
        "  │   ├── train_002.txt\n",
        "  │   └── ...\n",
        "  └── valid\n",
        "      ├── valid_001.txt\n",
        "      ├── valid_002.txt\n",
        "      └── ...\n",
        "```"
      ]
    },
    {
      "cell_type": "markdown",
      "metadata": {
        "id": "4Ra5z3puoz-x"
      },
      "source": [
        "Với tập dữ liệu về gấu trúc, các bạn có thể tải về từ [Panda ML Blog Github](https://github.com/hungk20/PandaML/blob/master/object_detection/train_yolo/custom_dataset.zip) về tải lên Colab. Các bạn cũng hoàn toàn có thể dùng dữ liệu của mình để dùng với notebook này (chỉ cần chuẩn bị đúng các file cấu hình là ổn)."
      ]
    },
    {
      "cell_type": "code",
      "metadata": {
        "id": "0PjLuHokrWUf"
      },
      "source": [
        "# unzip thư mục ảnh và nhãn cùng với các files cấu hình\n",
        "!unzip -q custom_dataset.zip"
      ],
      "execution_count": null,
      "outputs": []
    },
    {
      "cell_type": "code",
      "metadata": {
        "id": "FFWuiyFmuonQ"
      },
      "source": [
        "# kiểm tra file cấu hình của tập dữ liệu\n",
        "!cat custom_dataset/custom_dataset.yaml"
      ],
      "execution_count": null,
      "outputs": []
    },
    {
      "cell_type": "code",
      "metadata": {
        "id": "wL7BUxOIvG5Z"
      },
      "source": [
        "# kiểm tra file cấu hình của mô hình\n",
        "!head custom_dataset/custom_model.yaml"
      ],
      "execution_count": null,
      "outputs": []
    },
    {
      "cell_type": "markdown",
      "metadata": {
        "id": "7mGmQbAO5pQb"
      },
      "source": [
        "# Huấn luyện mô hình\n",
        "## Cài đặt thư viện liên quan\n",
        "Tải YOLOv5 từ GitHub và các cài đặt các thư viện liên quan.\n"
      ]
    },
    {
      "cell_type": "code",
      "metadata": {
        "id": "Ie5uLDH4uzAp"
      },
      "source": [
        "# clone YOLOv5 repository\n",
        "!git clone https://github.com/ultralytics/yolov5\n",
        "# vào thư mục yolov5 mới được cloned về\n",
        "%cd yolov5\n",
        "# (không bắt buộc) dùng 1 commit nhất định\n",
        "# !git reset --hard 886f1c03d839575afecb059accf74296fad395b6\n",
        "# \bcài đặt các thư viện cần thiết\n",
        "!pip install -qr requirements.txt  # install dependencies"
      ],
      "execution_count": null,
      "outputs": []
    },
    {
      "cell_type": "code",
      "metadata": {
        "id": "93mCzUqIwfwC"
      },
      "source": [
        "import torch\n",
        "\n",
        "# kiểm tra notebook đã dùng GPU (thời gian huấn luyện nhanh hơn)\n",
        "print('Setup complete. Using torch %s %s' % (torch.__version__, torch.cuda.get_device_properties(0) if torch.cuda.is_available() else 'CPU'))"
      ],
      "execution_count": null,
      "outputs": []
    },
    {
      "cell_type": "markdown",
      "metadata": {
        "id": "H7V3stdv0fC-"
      },
      "source": [
        "Lưu ý là đến bước này thì chúng ta đang ở trong thư mục `yolov5`, thư mục này ở cạnh thư mục `custom_dataset` như sau:\n",
        "```\n",
        ".\n",
        "├── custom_dataset\n",
        "└── yolov5\n",
        "```"
      ]
    },
    {
      "cell_type": "markdown",
      "metadata": {
        "id": "VUOiNLtMP5aG"
      },
      "source": [
        "## Huấn luyện\n",
        "Các bước chuẩn bị đã xong, giờ việc huấn luyện trở nên rất đơn giản với `train.py` trong thư mục `yolov5`.\n",
        "\n",
        "Một số tham số được dùng:\n",
        "- `img`: kích thước ảnh (độ phân giải)\n",
        "- `batch`: số ảnh dùng để huấn luyện trong mỗi lượt\n",
        "- `epochs`: số lượt huấn luyện cho tất cả các ảnh trong tập dữ liệu train\n",
        "- `data`: đường dẫn đến file cấu hình của tập dữ liệu\n",
        "- `cfg`: đường dẫn đến file cấu hình của mô hình\n",
        "- `weights`: đường dẫn đến file weight chứa độ liên kết giữa các neuron (để '' là để huấn luyện từ đầu)\n",
        "- `name`: tên thư mục để lưu mô hình\n",
        "- `cache`: dùng bộ nhớ đệm để huấn luyện nhanh hơn"
      ]
    },
    {
      "cell_type": "code",
      "metadata": {
        "id": "1NcFxRcFdJ_O"
      },
      "source": [
        "%%time\n",
        "!python train.py --img 416 --batch 16 --epochs 500 \\\n",
        "  --data ../custom_dataset/custom_dataset.yaml \\\n",
        "  --cfg ../custom_dataset/custom_model.yaml \\\n",
        "  --weights '' --name custom_model  --cache"
      ],
      "execution_count": null,
      "outputs": []
    },
    {
      "cell_type": "markdown",
      "metadata": {
        "id": "kJVs_4zEeVbF"
      },
      "source": [
        "## Kết quả\n"
      ]
    },
    {
      "cell_type": "markdown",
      "metadata": {
        "id": "z-DFsKrgDdjF"
      },
      "source": [
        "Ảnh đầu gốc vào và ảnh tăng cường (data augmentaion) khi huấn luyện mô hình được lưu ở `yolov5/runs/train/custom_model/`."
      ]
    },
    {
      "cell_type": "code",
      "metadata": {
        "id": "q_54XgW4D_e5"
      },
      "source": [
        "from IPython.display import Image, display\n",
        "\n",
        "print(\"Ảnh gốc và nhãn tương ứng:\")\n",
        "Image(filename='runs/train/custom_model/val_batch0_labels.jpg', width=900)"
      ],
      "execution_count": null,
      "outputs": []
    },
    {
      "cell_type": "code",
      "metadata": {
        "id": "A4dSZhl0ENUg"
      },
      "source": [
        "print(\"Ảnh tăng cường (augmented)\")\n",
        "Image(filename='runs/train/custom_model/train_batch0.jpg', width=900)"
      ],
      "execution_count": null,
      "outputs": []
    },
    {
      "cell_type": "markdown",
      "metadata": {
        "id": "siorpIfuD8Qa"
      },
      "source": [
        "Dùng `tensorboard` để kiểm tra kết quả của việc huấn luyện (các chỉ số thay đổi như thế nào sau mỗi epoch)."
      ]
    },
    {
      "cell_type": "code",
      "metadata": {
        "id": "bOy5KI2ncnWd"
      },
      "source": [
        "%load_ext tensorboard\n",
        "%tensorboard --logdir runs"
      ],
      "execution_count": null,
      "outputs": []
    },
    {
      "cell_type": "markdown",
      "metadata": {
        "id": "N3qM6T0W53gh"
      },
      "source": [
        "# Dự đoán với mô hình được huấn luyện"
      ]
    },
    {
      "cell_type": "markdown",
      "metadata": {
        "id": "UzKte5PgjE6Q"
      },
      "source": [
        "Khi việc huấn luyện kết thúc, có 2 file weights mô hình được lưu lại:\n",
        "\n",
        "- Mô hình tốt nhất: `best.pt` (tốt nhất dựa trên chỉ số Average Precision trên tập kiểm định)\n",
        "- Mô hình cuối cùng: `last.pt`"
      ]
    },
    {
      "cell_type": "code",
      "metadata": {
        "id": "AeTbHlm5jEvX"
      },
      "source": [
        "!ls runs/train/custom_model/weights"
      ],
      "execution_count": null,
      "outputs": []
    },
    {
      "cell_type": "markdown",
      "metadata": {
        "id": "5m3gcVc7jyvb"
      },
      "source": [
        "Chúng ta dùng `detect.py` để thực hiện dự đoán với mô hình tốt nhất có được từ quá trình huấn luyện.\n",
        "- `weights`: file weight dùng để dự đoán\n",
        "- `img`: kích thước ảnh (độ phân giải)\n",
        "- `conf`: độ tin cậy\n",
        "- `source`: đường dẫn đến thư mục ảnh"
      ]
    },
    {
      "cell_type": "code",
      "metadata": {
        "id": "9nmZZnWOgJ2S"
      },
      "source": [
        "!python detect.py --weights runs/train/custom_model/weights/best.pt \\\n",
        "    --img 416 --conf 0.4 \\\n",
        "    --source ../custom_dataset/images_and_labels/images/test"
      ],
      "execution_count": null,
      "outputs": []
    },
    {
      "cell_type": "markdown",
      "metadata": {
        "id": "YAekTNX7lncZ"
      },
      "source": [
        "Kết quả dự đoán được lưu tại thư mục `/yolov5/runs/detect/exp/` (hoặc exp1, 2, 3, … tuỳ vào số lần chúng ta chạy dự đoán với `detect.py`)."
      ]
    },
    {
      "cell_type": "code",
      "metadata": {
        "id": "odKEqYtTgbRc"
      },
      "source": [
        "import glob\n",
        "\n",
        "for imageName in glob.glob('runs/detect/exp/*.jpg'):\n",
        "    display(Image(filename=imageName))\n",
        "    print(\"\\n\")"
      ],
      "execution_count": null,
      "outputs": []
    },
    {
      "cell_type": "markdown",
      "metadata": {
        "id": "_uPq9mVgiBql"
      },
      "source": [
        "# Lưu mô hình cho những lần sử dụng sau\n",
        "Các files trên Colab sẽ bị xoá sau một khoảng thời gian nhất định, chúng ta nên lưu lại files mô hình để sử dụng về sau. Các files có thể được tải trực tiếp về máy hoặc lưu lại trên Google Drive.\n",
        "```\n",
        "from google.colab import drive\n",
        "drive.mount('/content/gdrive')\n",
        "```\n",
        "\n",
        "```\n",
        "%cp /content/yolov5/runs/train/custom_model/weights/best.pt /content/gdrive/Your_Drive\n",
        "```\n",
        "\n"
      ]
    },
    {
      "cell_type": "markdown",
      "metadata": {
        "id": "LVpCFeU-K4gb"
      },
      "source": [
        "# Tạm kết\n",
        "\n",
        "Bài hôm nay đã giới thiệu đến các bạn các bước để huấn luyện một mô hình Object Detection dựa trên YOLOv5. Có lẽ bước tốn thời gian nhất là bước tìm ảnh phù hợp và gắn nhãn cho ảnh. Còn các bước huấn luyện và dự đoán thì khá dễ dàng. Trong thực tế cũng vậy, bước chuẩn bị dữ liệu (data preparation) thường cũng là bước tốn thời gian nhất.\n",
        "\n",
        "Hy vọng là với bài hướng dẫn này, các bạn cũng sẽ huấn luyện được những mô hình thú vị cho riêng mình.\n",
        "\n",
        "-- Panda ML Blog"
      ]
    },
    {
      "cell_type": "markdown",
      "metadata": {
        "id": "iSSfNhuCKrT8"
      },
      "source": [
        "# Tham khảo\n",
        "- [YOLOv5 repository](https://github.com/ultralytics/yolov5)\n",
        "- [Offical YOLOv5 Tutorial by Ultralytics](https://colab.research.google.com/github/ultralytics/yolov5/blob/master/tutorial.ipynb)\n",
        "- [Train YOLOv5 blog by RoboFlow](https://blog.roboflow.ai/how-to-train-yolov5-on-a-custom-dataset/)\n",
        "- [Train YOLOv5 Tutorial by RoboFlow](https://colab.research.google.com/drive/1gDZ2xcTOgR39tGGs-EZ6i3RTs16wmzZQ)\n",
        "- [How to Create an End to End Object Detector using Yolov5](https://towardsdatascience.com/how-to-create-an-end-to-end-object-detector-using-yolov5-35fbb1a02810)"
      ]
    }
  ]
}